{
  "nbformat": 4,
  "nbformat_minor": 0,
  "metadata": {
    "colab": {
      "name": "Copy of R for Sentiment.ipynb",
      "provenance": [],
      "collapsed_sections": [],
      "toc_visible": true,
      "include_colab_link": true
    },
    "kernelspec": {
      "display_name": "R",
      "name": "ir"
    },
    "language_info": {
      "name": "R"
    }
  },
  "cells": [
    {
      "cell_type": "markdown",
      "metadata": {
        "id": "view-in-github",
        "colab_type": "text"
      },
      "source": [
        "<a href=\"https://colab.research.google.com/github/vsnupoudel/DeepLearning-Exercises/blob/main/Copy_of_R_for_Sentiment.ipynb\" target=\"_parent\"><img src=\"https://colab.research.google.com/assets/colab-badge.svg\" alt=\"Open In Colab\"/></a>"
      ]
    },
    {
      "cell_type": "markdown",
      "metadata": {
        "id": "2cfHpbP7F0md"
      },
      "source": [
        "## EDA and starting loading file\n"
      ]
    },
    {
      "cell_type": "code",
      "metadata": {
        "id": "IUrY8SMyGHhh",
        "colab": {
          "base_uri": "https://localhost:8080/"
        },
        "outputId": "6460d4ed-3533-4816-d0a4-4932577f11a0"
      },
      "source": [
        "install.packages(\"caret\")"
      ],
      "execution_count": null,
      "outputs": [
        {
          "output_type": "stream",
          "text": [
            "Installing package into ‘/usr/local/lib/R/site-library’\n",
            "(as ‘lib’ is unspecified)\n",
            "\n"
          ],
          "name": "stderr"
        }
      ]
    },
    {
      "cell_type": "code",
      "metadata": {
        "colab": {
          "base_uri": "https://localhost:8080/"
        },
        "id": "Q8YLhC_RwMAO",
        "outputId": "4d3a3208-6f31-44a2-826b-f6dc5e260a43"
      },
      "source": [
        "install.packages(c( \"dplyr\",\"tidyr\",\"data.table\",\"googledrive\",\"randomForest\",\"e1071\",\"caret\") )\n",
        "x <- c( \"dplyr\",\"tidyr\",\"data.table\",\"googledrive\",\"caret\",\"randomForest\",\"e1071\",\"caret\")\n",
        "z = lapply(x, require, character.only = TRUE)"
      ],
      "execution_count": null,
      "outputs": [
        {
          "output_type": "stream",
          "text": [
            "Loading required package: caret\n",
            "\n",
            "Warning message in library(package, lib.loc = lib.loc, character.only = TRUE, logical.return = TRUE, :\n",
            "“there is no package called ‘caret’”\n",
            "Loading required package: caret\n",
            "\n",
            "Warning message in library(package, lib.loc = lib.loc, character.only = TRUE, logical.return = TRUE, :\n",
            "“there is no package called ‘caret’”\n"
          ],
          "name": "stderr"
        }
      ]
    },
    {
      "cell_type": "markdown",
      "metadata": {
        "id": "L4Rx5jA8bFlD"
      },
      "source": [
        "### Downloading the csv files and labels."
      ]
    },
    {
      "cell_type": "code",
      "metadata": {
        "id": "0jdwfAqqrA3g"
      },
      "source": [
        "system(\"gdown --id 1zEMC6p8lMrE-2r6tQ1iiGZVyFJU7U8jV -O 'tf_idf.csv' \")\n",
        "system(\"gdown --id 10Mh7guO6Hv9AvQ_3qMvNH4OrdX3SPdAL -O 'binary_df.csv' \")\n",
        "system(\"gdown --id 1EiKe_p6TEKGutggyK9Sb87DXh24mE8OA -O 'labels.txt' \")"
      ],
      "execution_count": null,
      "outputs": []
    },
    {
      "cell_type": "code",
      "metadata": {
        "id": "NbuC0GxaeRLd"
      },
      "source": [
        "# binary_matrix = read.matrix('/content/binary_df', header = TRUE, \n",
        "#   assign.fn = assign_matrix_dense)"
      ],
      "execution_count": null,
      "outputs": []
    },
    {
      "cell_type": "code",
      "metadata": {
        "colab": {
          "base_uri": "https://localhost:8080/",
          "height": 34
        },
        "id": "lVtDEoRXSjt-",
        "outputId": "8bbdbf05-c930-490c-c570-f1aa8ef5a4f4"
      },
      "source": [
        "start_time <- Sys.time()\n",
        "\n",
        "binary_df = read.table(file = '/content/tf_idf.csv'\n",
        "                    , na.strings = c(\"\",NA) , sep=\",\" \n",
        "                    , nrows = 100000\n",
        "                    , header = T)\n",
        "                    \n",
        "end_time <- Sys.time()\n",
        "end_time - start_time"
      ],
      "execution_count": null,
      "outputs": [
        {
          "output_type": "display_data",
          "data": {
            "text/plain": [
              "Time difference of 1.297193 mins"
            ]
          },
          "metadata": {
            "tags": []
          }
        }
      ]
    },
    {
      "cell_type": "code",
      "metadata": {
        "colab": {
          "base_uri": "https://localhost:8080/",
          "height": 34
        },
        "id": "r_Tut9etNaqL",
        "outputId": "4c6d282e-65c6-46aa-f7ef-efd9eb25c640"
      },
      "source": [
        "dim(binary_df)"
      ],
      "execution_count": null,
      "outputs": [
        {
          "output_type": "display_data",
          "data": {
            "text/plain": [
              "[1] 100000   2001"
            ],
            "text/latex": "\\begin{enumerate*}\n\\item 100000\n\\item 2001\n\\end{enumerate*}\n",
            "text/markdown": "1. 100000\n2. 2001\n\n\n",
            "text/html": [
              "<style>\n",
              ".list-inline {list-style: none; margin:0; padding: 0}\n",
              ".list-inline>li {display: inline-block}\n",
              ".list-inline>li:not(:last-child)::after {content: \"\\00b7\"; padding: 0 .5ex}\n",
              "</style>\n",
              "<ol class=list-inline><li>100000</li><li>2001</li></ol>\n"
            ]
          },
          "metadata": {
            "tags": []
          }
        }
      ]
    },
    {
      "cell_type": "code",
      "metadata": {
        "colab": {
          "base_uri": "https://localhost:8080/"
        },
        "id": "J3WmnHUTOK1m",
        "outputId": "67188bb2-35be-4d58-8662-bafd535db40d"
      },
      "source": [
        "labels = read.delim('/content/labels.txt'\n",
        "                    , header = FALSE, sep = \",\")"
      ],
      "execution_count": null,
      "outputs": [
        {
          "output_type": "stream",
          "text": [
            "Warning message in read.table(file = file, header = header, sep = sep, quote = quote, :\n",
            "“incomplete final line found by readTableHeader on '/content/labels.txt'”\n"
          ],
          "name": "stderr"
        }
      ]
    },
    {
      "cell_type": "code",
      "metadata": {
        "id": "RdRvb_D8OQzB"
      },
      "source": [
        "labels_t = t(labels)"
      ],
      "execution_count": null,
      "outputs": []
    },
    {
      "cell_type": "code",
      "metadata": {
        "id": "8-8bnHgGRg2g"
      },
      "source": [
        "labels_d = data.frame(labels_t)\n",
        "labels_d[500000,] = '0'\n",
        "labels_d[1,] = '1'\n",
        "labels_d$labels_t =  as.integer ( labels_d$labels_t  )"
      ],
      "execution_count": null,
      "outputs": []
    },
    {
      "cell_type": "markdown",
      "metadata": {
        "id": "acwxQlSqU8pE"
      },
      "source": [
        "Train our first model from the non sparse binary df"
      ]
    },
    {
      "cell_type": "code",
      "metadata": {
        "id": "YrDwQWi3W57W"
      },
      "source": [
        "binary_df['target'] = as.factor( labels_d[1:100000,])"
      ],
      "execution_count": null,
      "outputs": []
    },
    {
      "cell_type": "code",
      "metadata": {
        "colab": {
          "base_uri": "https://localhost:8080/"
        },
        "id": "0ROLr5OdU77p",
        "outputId": "cf60d679-0976-4830-ca6a-1956de565b8e"
      },
      "source": [
        "library(caret)\n",
        "sample = createDataPartition(\n",
        "  binary_df$target,  times = 1,\n",
        "  p = 0.3, list = FALSE\n",
        ")"
      ],
      "execution_count": null,
      "outputs": [
        {
          "output_type": "stream",
          "text": [
            "Loading required package: lattice\n",
            "\n",
            "Loading required package: ggplot2\n",
            "\n",
            "\n",
            "Attaching package: ‘ggplot2’\n",
            "\n",
            "\n",
            "The following object is masked from ‘package:randomForest’:\n",
            "\n",
            "    margin\n",
            "\n",
            "\n",
            "Warning message in system(\"timedatectl\", intern = TRUE):\n",
            "“running command 'timedatectl' had status 1”\n"
          ],
          "name": "stderr"
        }
      ]
    },
    {
      "cell_type": "code",
      "metadata": {
        "id": "5u0rR2yXUsq7"
      },
      "source": [
        "training <- binary_df[sample,]\n",
        "testing <- binary_df[-sample, ]"
      ],
      "execution_count": null,
      "outputs": []
    },
    {
      "cell_type": "code",
      "metadata": {
        "id": "ypkutwGIXMJS"
      },
      "source": [
        "start_time <- Sys.time()\n",
        "modRF <- train( target~., data=training, method=\"rf\"  ) \n",
        "\n",
        "# ctrl <- trainControl(method = \"cv\",\n",
        "# classProbs = TRUE)\n",
        "                    \n",
        "end_time <- Sys.time()\n",
        "end_time - start_time"
      ],
      "execution_count": null,
      "outputs": []
    },
    {
      "cell_type": "code",
      "metadata": {
        "id": "b8jcAgaTrYNN"
      },
      "source": [
        "predRF <- predict(modRF, newdata= testing )\n",
        "tableRF <-table(modRF, testing$classe)\n",
        "tableRF"
      ],
      "execution_count": null,
      "outputs": []
    },
    {
      "cell_type": "code",
      "metadata": {
        "id": "_Wr512ug43Qh"
      },
      "source": [
        "sum(diag(tableRF))/ sum(tableRF) "
      ],
      "execution_count": null,
      "outputs": []
    }
  ]
}