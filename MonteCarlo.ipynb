{
 "cells": [
  {
   "cell_type": "code",
   "execution_count": 18,
   "metadata": {},
   "outputs": [],
   "source": [
    "import random\n",
    "customer_prob_dist = {1: 0.2, 2:0.5, 3:0.8, 4: 1}\n",
    "gift_prob_dist = {'candle' :0.3, 'ornament': 0.6 , 'Coffee Cup': 1.0}\n",
    "gift_count = {'candle' :0, 'ornament': 0 , 'Coffee Cup': 0 }\n",
    "random_seed_list = iter( [45,23,28,75,0,28,54,87,29,83,2,85,6,39,2,54,79,32,51,10,15,85,67,26,34])"
   ]
  },
  {
   "cell_type": "code",
   "execution_count": 19,
   "metadata": {},
   "outputs": [
    {
     "name": "stdout",
     "output_type": "stream",
     "text": [
      "{'candle': 4, 'ornament': 2, 'Coffee Cup': 6}\n"
     ]
    }
   ],
   "source": [
    "for i in range(6): # for 6 hours\n",
    "    # for customer\n",
    "    r_seed =next(random_seed_list)\n",
    "    random.seed(r_seed)\n",
    "    \n",
    "    random_number = random.random()\n",
    "    for customer, prob in customer_prob_dist.items():\n",
    "        if random_number >= prob:\n",
    "            continue\n",
    "        else:\n",
    "            cust_number = customer\n",
    "            break\n",
    "        cust_number = customer\n",
    "        \n",
    "    # for gift\n",
    "    for i in range(cust_number):\n",
    "        r_seed =next(random_seed_list)\n",
    "        random.seed(r_seed)    \n",
    "        random_number = random.random()\n",
    "\n",
    "        for gift, prob in gift_prob_dist.items():\n",
    "            if random_number >= prob:\n",
    "                continue\n",
    "            else:\n",
    "                gift_count[gift] += 1 \n",
    "                break\n",
    "            gift_count[gift] += 1 \n",
    "            \n",
    "print(gift_count)     "
   ]
  },
  {
   "cell_type": "code",
   "execution_count": null,
   "metadata": {},
   "outputs": [],
   "source": []
  }
 ],
 "metadata": {
  "kernelspec": {
   "display_name": "Python 3.7.6 64-bit",
   "language": "python",
   "name": "python37664bit664c61c6fce74328988c82bb8cd8854e"
  },
  "language_info": {
   "codemirror_mode": {
    "name": "ipython",
    "version": 3
   },
   "file_extension": ".py",
   "mimetype": "text/x-python",
   "name": "python",
   "nbconvert_exporter": "python",
   "pygments_lexer": "ipython3",
   "version": "3.7.6"
  }
 },
 "nbformat": 4,
 "nbformat_minor": 4
}
