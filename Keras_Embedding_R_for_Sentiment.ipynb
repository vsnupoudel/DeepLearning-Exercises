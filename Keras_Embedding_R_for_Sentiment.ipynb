{
  "nbformat": 4,
  "nbformat_minor": 0,
  "metadata": {
    "colab": {
      "name": "Keras Embedding R for Sentiment.ipynb",
      "provenance": [],
      "collapsed_sections": [],
      "toc_visible": true,
      "authorship_tag": "ABX9TyOVXYxkQTAST9EAsBt+DFPf",
      "include_colab_link": true
    },
    "kernelspec": {
      "display_name": "R",
      "name": "ir"
    },
    "language_info": {
      "name": "R"
    },
    "accelerator": "GPU"
  },
  "cells": [
    {
      "cell_type": "markdown",
      "metadata": {
        "id": "view-in-github",
        "colab_type": "text"
      },
      "source": [
        "<a href=\"https://colab.research.google.com/github/vsnupoudel/DeepLearning-Exercises/blob/main/Keras_Embedding_R_for_Sentiment.ipynb\" target=\"_parent\"><img src=\"https://colab.research.google.com/assets/colab-badge.svg\" alt=\"Open In Colab\"/></a>"
      ]
    },
    {
      "cell_type": "markdown",
      "metadata": {
        "id": "2cfHpbP7F0md"
      },
      "source": [
        "## EDA and starting loading file\n"
      ]
    },
    {
      "cell_type": "code",
      "metadata": {
        "colab": {
          "base_uri": "https://localhost:8080/"
        },
        "id": "koKL5n6y3ZWo",
        "outputId": "1a6fe05f-7bc4-4d5f-a86d-4107272baa94"
      },
      "source": [
        "install.packages(\"FCNN4R\", dependencies=TRUE, repos='http://cran.rstudio.com/')"
      ],
      "execution_count": null,
      "outputs": [
        {
          "output_type": "stream",
          "text": [
            "Installing package into ‘/usr/local/lib/R/site-library’\n",
            "(as ‘lib’ is unspecified)\n",
            "\n",
            "Warning message:\n",
            "“package ‘FCNN4R’ is not available for this version of R\n",
            "\n",
            "A version of this package for your version of R might be available elsewhere,\n",
            "see the ideas at\n",
            "https://cran.r-project.org/doc/manuals/r-patched/R-admin.html#Installing-packages”\n"
          ],
          "name": "stderr"
        }
      ]
    },
    {
      "cell_type": "code",
      "metadata": {
        "id": "GiUR9nmy3dNg"
      },
      "source": [
        "library(FCNN4R)"
      ],
      "execution_count": null,
      "outputs": []
    },
    {
      "cell_type": "code",
      "metadata": {
        "colab": {
          "base_uri": "https://localhost:8080/"
        },
        "id": "Q8YLhC_RwMAO",
        "outputId": "29656946-caa8-4579-b7b6-36f82d640336"
      },
      "source": [
        "install.packages( c( \"caret\",\"keras\",\"e1071\",\"caTools\" )  )\n",
        "x <- c( \"caret\",\"kernlab\",\"e1071\",\"caTools\", \"keras\")\n",
        "z = lapply(x, require, character.only = TRUE)"
      ],
      "execution_count": null,
      "outputs": [
        {
          "output_type": "stream",
          "text": [
            "Installing packages into ‘/usr/local/lib/R/site-library’\n",
            "(as ‘lib’ is unspecified)\n",
            "\n",
            "also installing the dependencies ‘numDeriv’, ‘SQUAREM’, ‘lava’, ‘prodlim’, ‘iterators’, ‘gower’, ‘ipred’, ‘timeDate’, ‘png’, ‘config’, ‘foreach’, ‘ModelMetrics’, ‘reshape2’, ‘recipes’, ‘pROC’, ‘reticulate’, ‘tensorflow’, ‘tfruns’, ‘zeallot’, ‘proxy’, ‘bitops’\n",
            "\n",
            "\n",
            "Loading required package: dplyr\n",
            "\n",
            "\n",
            "Attaching package: ‘dplyr’\n",
            "\n",
            "\n",
            "The following objects are masked from ‘package:plyr’:\n",
            "\n",
            "    arrange, count, desc, failwith, id, mutate, rename, summarise,\n",
            "    summarize\n",
            "\n",
            "\n",
            "The following objects are masked from ‘package:stats’:\n",
            "\n",
            "    filter, lag\n",
            "\n",
            "\n",
            "The following objects are masked from ‘package:base’:\n",
            "\n",
            "    intersect, setdiff, setequal, union\n",
            "\n",
            "\n",
            "Loading required package: tidyr\n",
            "\n",
            "Loading required package: data.table\n",
            "\n",
            "\n",
            "Attaching package: ‘data.table’\n",
            "\n",
            "\n",
            "The following objects are masked from ‘package:dplyr’:\n",
            "\n",
            "    between, first, last\n",
            "\n",
            "\n",
            "Loading required package: googledrive\n",
            "\n",
            "Loading required package: caret\n",
            "\n",
            "Loading required package: lattice\n",
            "\n",
            "Loading required package: ggplot2\n",
            "\n",
            "Warning message in system(\"timedatectl\", intern = TRUE):\n",
            "“running command 'timedatectl' had status 1”\n",
            "Loading required package: kernlab\n",
            "\n",
            "Warning message in library(package, lib.loc = lib.loc, character.only = TRUE, logical.return = TRUE, :\n",
            "“there is no package called ‘kernlab’”\n",
            "Loading required package: e1071\n",
            "\n",
            "Loading required package: caTools\n",
            "\n",
            "Loading required package: keras\n",
            "\n"
          ],
          "name": "stderr"
        }
      ]
    },
    {
      "cell_type": "markdown",
      "metadata": {
        "id": "L4Rx5jA8bFlD"
      },
      "source": [
        "### Downloading the csv files and labels."
      ]
    },
    {
      "cell_type": "code",
      "metadata": {
        "id": "0jdwfAqqrA3g"
      },
      "source": [
        "system(\"gdown --id 1S19nLJ_d0gF7hGyfffOIJvD-F8k4mH7r -O 'tf_idf.csv' \")"
      ],
      "execution_count": null,
      "outputs": []
    },
    {
      "cell_type": "code",
      "metadata": {
        "id": "NbuC0GxaeRLd"
      },
      "source": [
        "unzip(zipfile= '/content/tf_idf.csv', overwrite = TRUE )"
      ],
      "execution_count": null,
      "outputs": []
    },
    {
      "cell_type": "code",
      "metadata": {
        "id": "r8E9BsosHSdd"
      },
      "source": [
        "fill_df1_train_positive <- read.csv('/content/fill_df1_train_positive.csv')"
      ],
      "execution_count": null,
      "outputs": []
    },
    {
      "cell_type": "code",
      "metadata": {
        "colab": {
          "base_uri": "https://localhost:8080/",
          "height": 257
        },
        "id": "RXn6biRZHiAE",
        "outputId": "165f8913-3277-4424-a770-70b2dd981316"
      },
      "source": [
        "head(fill_df1_train_positive, 2)"
      ],
      "execution_count": null,
      "outputs": [
        {
          "output_type": "display_data",
          "data": {
            "text/plain": [
              "  dim_1       dim_2    dim_3      dim_4      dim_5     dim_6       dim_7     \n",
              "1 -0.51402000 0.637918 0.25157200  0.2834080 0.4950880  0.02275942 -0.0883000\n",
              "2  0.08519937 0.407290 0.04108025 -0.1861762 0.3332825 -0.49506000 -0.3306288\n",
              "  dim_8      dim_9     dim_10   ⋯ dim_44    dim_45     dim_46     dim_47   \n",
              "1 -0.3503385 -0.450752 0.423728 ⋯ 0.1382978 -0.0498740  0.2458186 0.1186712\n",
              "2  0.3591339 -0.347320 0.019373 ⋯ 0.2087037  0.2583766 -0.1187470 0.1379294\n",
              "  dim_48     dim_49      dim_50   \n",
              "1 -0.4487964 -0.24228080 1.0721700\n",
              "2 -0.1036104 -0.04515888 0.5299497\n",
              "  Description                                                             \n",
              "1 i love @health4uandpets u guys r the best!!                             \n",
              "2 im meeting up with one of my besties tonight! cant wait!!  - girl talk!!\n",
              "  Desc                                                     Target\n",
              "1  love healthuandpets u guys r  best                      4     \n",
              "2 im meeting   one   besties tonight cant wait   girl talk 4     "
            ],
            "text/latex": "A data.frame: 2 × 53\n\\begin{tabular}{r|lllllllllllllllllllll}\n  & dim\\_1 & dim\\_2 & dim\\_3 & dim\\_4 & dim\\_5 & dim\\_6 & dim\\_7 & dim\\_8 & dim\\_9 & dim\\_10 & ⋯ & dim\\_44 & dim\\_45 & dim\\_46 & dim\\_47 & dim\\_48 & dim\\_49 & dim\\_50 & Description & Desc & Target\\\\\n  & <dbl> & <dbl> & <dbl> & <dbl> & <dbl> & <dbl> & <dbl> & <dbl> & <dbl> & <dbl> & ⋯ & <dbl> & <dbl> & <dbl> & <dbl> & <dbl> & <dbl> & <dbl> & <chr> & <chr> & <int>\\\\\n\\hline\n\t1 & -0.51402000 & 0.637918 & 0.25157200 &  0.2834080 & 0.4950880 &  0.02275942 & -0.0883000 & -0.3503385 & -0.450752 & 0.423728 & ⋯ & 0.1382978 & -0.0498740 &  0.2458186 & 0.1186712 & -0.4487964 & -0.24228080 & 1.0721700 & i love @health4uandpets u guys r the best!!                              &  love healthuandpets u guys r  best                      & 4\\\\\n\t2 &  0.08519937 & 0.407290 & 0.04108025 & -0.1861762 & 0.3332825 & -0.49506000 & -0.3306288 &  0.3591339 & -0.347320 & 0.019373 & ⋯ & 0.2087037 &  0.2583766 & -0.1187470 & 0.1379294 & -0.1036104 & -0.04515888 & 0.5299497 & im meeting up with one of my besties tonight! cant wait!!  - girl talk!! & im meeting   one   besties tonight cant wait   girl talk & 4\\\\\n\\end{tabular}\n",
            "text/markdown": "\nA data.frame: 2 × 53\n\n| <!--/--> | dim_1 &lt;dbl&gt; | dim_2 &lt;dbl&gt; | dim_3 &lt;dbl&gt; | dim_4 &lt;dbl&gt; | dim_5 &lt;dbl&gt; | dim_6 &lt;dbl&gt; | dim_7 &lt;dbl&gt; | dim_8 &lt;dbl&gt; | dim_9 &lt;dbl&gt; | dim_10 &lt;dbl&gt; | ⋯ ⋯ | dim_44 &lt;dbl&gt; | dim_45 &lt;dbl&gt; | dim_46 &lt;dbl&gt; | dim_47 &lt;dbl&gt; | dim_48 &lt;dbl&gt; | dim_49 &lt;dbl&gt; | dim_50 &lt;dbl&gt; | Description &lt;chr&gt; | Desc &lt;chr&gt; | Target &lt;int&gt; |\n|---|---|---|---|---|---|---|---|---|---|---|---|---|---|---|---|---|---|---|---|---|---|\n| 1 | -0.51402000 | 0.637918 | 0.25157200 |  0.2834080 | 0.4950880 |  0.02275942 | -0.0883000 | -0.3503385 | -0.450752 | 0.423728 | ⋯ | 0.1382978 | -0.0498740 |  0.2458186 | 0.1186712 | -0.4487964 | -0.24228080 | 1.0721700 | i love @health4uandpets u guys r the best!!                              |  love healthuandpets u guys r  best                      | 4 |\n| 2 |  0.08519937 | 0.407290 | 0.04108025 | -0.1861762 | 0.3332825 | -0.49506000 | -0.3306288 |  0.3591339 | -0.347320 | 0.019373 | ⋯ | 0.2087037 |  0.2583766 | -0.1187470 | 0.1379294 | -0.1036104 | -0.04515888 | 0.5299497 | im meeting up with one of my besties tonight! cant wait!!  - girl talk!! | im meeting   one   besties tonight cant wait   girl talk | 4 |\n\n",
            "text/html": [
              "<table class=\"dataframe\">\n",
              "<caption>A data.frame: 2 × 53</caption>\n",
              "<thead>\n",
              "\t<tr><th></th><th scope=col>dim_1</th><th scope=col>dim_2</th><th scope=col>dim_3</th><th scope=col>dim_4</th><th scope=col>dim_5</th><th scope=col>dim_6</th><th scope=col>dim_7</th><th scope=col>dim_8</th><th scope=col>dim_9</th><th scope=col>dim_10</th><th scope=col>⋯</th><th scope=col>dim_44</th><th scope=col>dim_45</th><th scope=col>dim_46</th><th scope=col>dim_47</th><th scope=col>dim_48</th><th scope=col>dim_49</th><th scope=col>dim_50</th><th scope=col>Description</th><th scope=col>Desc</th><th scope=col>Target</th></tr>\n",
              "\t<tr><th></th><th scope=col>&lt;dbl&gt;</th><th scope=col>&lt;dbl&gt;</th><th scope=col>&lt;dbl&gt;</th><th scope=col>&lt;dbl&gt;</th><th scope=col>&lt;dbl&gt;</th><th scope=col>&lt;dbl&gt;</th><th scope=col>&lt;dbl&gt;</th><th scope=col>&lt;dbl&gt;</th><th scope=col>&lt;dbl&gt;</th><th scope=col>&lt;dbl&gt;</th><th scope=col>⋯</th><th scope=col>&lt;dbl&gt;</th><th scope=col>&lt;dbl&gt;</th><th scope=col>&lt;dbl&gt;</th><th scope=col>&lt;dbl&gt;</th><th scope=col>&lt;dbl&gt;</th><th scope=col>&lt;dbl&gt;</th><th scope=col>&lt;dbl&gt;</th><th scope=col>&lt;chr&gt;</th><th scope=col>&lt;chr&gt;</th><th scope=col>&lt;int&gt;</th></tr>\n",
              "</thead>\n",
              "<tbody>\n",
              "\t<tr><th scope=row>1</th><td>-0.51402000</td><td>0.637918</td><td>0.25157200</td><td> 0.2834080</td><td>0.4950880</td><td> 0.02275942</td><td>-0.0883000</td><td>-0.3503385</td><td>-0.450752</td><td>0.423728</td><td>⋯</td><td>0.1382978</td><td>-0.0498740</td><td> 0.2458186</td><td>0.1186712</td><td>-0.4487964</td><td>-0.24228080</td><td>1.0721700</td><td>i love @health4uandpets u guys r the best!!                             </td><td> love healthuandpets u guys r  best                     </td><td>4</td></tr>\n",
              "\t<tr><th scope=row>2</th><td> 0.08519937</td><td>0.407290</td><td>0.04108025</td><td>-0.1861762</td><td>0.3332825</td><td>-0.49506000</td><td>-0.3306288</td><td> 0.3591339</td><td>-0.347320</td><td>0.019373</td><td>⋯</td><td>0.2087037</td><td> 0.2583766</td><td>-0.1187470</td><td>0.1379294</td><td>-0.1036104</td><td>-0.04515888</td><td>0.5299497</td><td>im meeting up with one of my besties tonight! cant wait!!  - girl talk!!</td><td>im meeting   one   besties tonight cant wait   girl talk</td><td>4</td></tr>\n",
              "</tbody>\n",
              "</table>\n"
            ]
          },
          "metadata": {
            "tags": []
          }
        }
      ]
    },
    {
      "cell_type": "code",
      "metadata": {
        "colab": {
          "base_uri": "https://localhost:8080/",
          "height": 341
        },
        "id": "S-mLrIrJHk3F",
        "outputId": "8d1de256-40a2-44c2-d8c4-86d61189747a"
      },
      "source": [
        "fill_df1_train_negative <- read.csv('/content/fill_df_train_negative.csv')\n",
        "head(fill_df1_train_negative,2)"
      ],
      "execution_count": null,
      "outputs": [
        {
          "output_type": "display_data",
          "data": {
            "text/plain": [
              "  dim_1       dim_2      dim_3     dim_4       dim_5       dim_6     \n",
              "1 -0.11758273 0.05472664 0.1435187 -0.04461991 -0.07263091 -0.1293335\n",
              "2 -0.08274296 0.11447275 0.2776635 -0.04677667 -0.08026000 -0.1987698\n",
              "  dim_7      dim_8       dim_9      dim_10   ⋯ dim_44        dim_45     \n",
              "1 -0.2996061  0.14176000 -0.1662370 0.170450 ⋯ -0.0006929091 0.002369427\n",
              "2 -0.2196217 -0.07718792 -0.2282217 0.207352 ⋯  0.3245757250 0.338379179\n",
              "  dim_46     dim_47    dim_48     dim_49     dim_50   \n",
              "1 0.03921009 0.1057899 -0.2360387 -0.1430836 0.7741466\n",
              "2 0.09025933 0.0563986 -0.0191855  0.1115213 0.1747626\n",
              "  Description                                                                                                        \n",
              "1 @switchfoot http://twitpic.com/2y1zl - awww, that's a bummer.  you shoulda got david carr of third day to do it. ;d\n",
              "2 is upset that he can't update his facebook by texting it... and might cry as a result  school today also. blah!    \n",
              "  Desc                                                                                     \n",
              "1 switchfoot httptwitpiccomyzl  awww thats  bummer   shoulda got david carr  third day    d\n",
              "2  upset   cant update  facebook  texting   might cry   result  school today also blah     \n",
              "  Target\n",
              "1 0     \n",
              "2 0     "
            ],
            "text/latex": "A data.frame: 2 × 53\n\\begin{tabular}{r|lllllllllllllllllllll}\n  & dim\\_1 & dim\\_2 & dim\\_3 & dim\\_4 & dim\\_5 & dim\\_6 & dim\\_7 & dim\\_8 & dim\\_9 & dim\\_10 & ⋯ & dim\\_44 & dim\\_45 & dim\\_46 & dim\\_47 & dim\\_48 & dim\\_49 & dim\\_50 & Description & Desc & Target\\\\\n  & <dbl> & <dbl> & <dbl> & <dbl> & <dbl> & <dbl> & <dbl> & <dbl> & <dbl> & <dbl> & ⋯ & <dbl> & <dbl> & <dbl> & <dbl> & <dbl> & <dbl> & <dbl> & <chr> & <chr> & <int>\\\\\n\\hline\n\t1 & -0.11758273 & 0.05472664 & 0.1435187 & -0.04461991 & -0.07263091 & -0.1293335 & -0.2996061 &  0.14176000 & -0.1662370 & 0.170450 & ⋯ & -0.0006929091 & 0.002369427 & 0.03921009 & 0.1057899 & -0.2360387 & -0.1430836 & 0.7741466 & @switchfoot http://twitpic.com/2y1zl - awww, that's a bummer.  you shoulda got david carr of third day to do it. ;d & switchfoot httptwitpiccomyzl  awww thats  bummer   shoulda got david carr  third day    d & 0\\\\\n\t2 & -0.08274296 & 0.11447275 & 0.2776635 & -0.04677667 & -0.08026000 & -0.1987698 & -0.2196217 & -0.07718792 & -0.2282217 & 0.207352 & ⋯ &  0.3245757250 & 0.338379179 & 0.09025933 & 0.0563986 & -0.0191855 &  0.1115213 & 0.1747626 & is upset that he can't update his facebook by texting it... and might cry as a result  school today also. blah!     &  upset   cant update  facebook  texting   might cry   result  school today also blah      & 0\\\\\n\\end{tabular}\n",
            "text/markdown": "\nA data.frame: 2 × 53\n\n| <!--/--> | dim_1 &lt;dbl&gt; | dim_2 &lt;dbl&gt; | dim_3 &lt;dbl&gt; | dim_4 &lt;dbl&gt; | dim_5 &lt;dbl&gt; | dim_6 &lt;dbl&gt; | dim_7 &lt;dbl&gt; | dim_8 &lt;dbl&gt; | dim_9 &lt;dbl&gt; | dim_10 &lt;dbl&gt; | ⋯ ⋯ | dim_44 &lt;dbl&gt; | dim_45 &lt;dbl&gt; | dim_46 &lt;dbl&gt; | dim_47 &lt;dbl&gt; | dim_48 &lt;dbl&gt; | dim_49 &lt;dbl&gt; | dim_50 &lt;dbl&gt; | Description &lt;chr&gt; | Desc &lt;chr&gt; | Target &lt;int&gt; |\n|---|---|---|---|---|---|---|---|---|---|---|---|---|---|---|---|---|---|---|---|---|---|\n| 1 | -0.11758273 | 0.05472664 | 0.1435187 | -0.04461991 | -0.07263091 | -0.1293335 | -0.2996061 |  0.14176000 | -0.1662370 | 0.170450 | ⋯ | -0.0006929091 | 0.002369427 | 0.03921009 | 0.1057899 | -0.2360387 | -0.1430836 | 0.7741466 | @switchfoot http://twitpic.com/2y1zl - awww, that's a bummer.  you shoulda got david carr of third day to do it. ;d | switchfoot httptwitpiccomyzl  awww thats  bummer   shoulda got david carr  third day    d | 0 |\n| 2 | -0.08274296 | 0.11447275 | 0.2776635 | -0.04677667 | -0.08026000 | -0.1987698 | -0.2196217 | -0.07718792 | -0.2282217 | 0.207352 | ⋯ |  0.3245757250 | 0.338379179 | 0.09025933 | 0.0563986 | -0.0191855 |  0.1115213 | 0.1747626 | is upset that he can't update his facebook by texting it... and might cry as a result  school today also. blah!     |  upset   cant update  facebook  texting   might cry   result  school today also blah      | 0 |\n\n",
            "text/html": [
              "<table class=\"dataframe\">\n",
              "<caption>A data.frame: 2 × 53</caption>\n",
              "<thead>\n",
              "\t<tr><th></th><th scope=col>dim_1</th><th scope=col>dim_2</th><th scope=col>dim_3</th><th scope=col>dim_4</th><th scope=col>dim_5</th><th scope=col>dim_6</th><th scope=col>dim_7</th><th scope=col>dim_8</th><th scope=col>dim_9</th><th scope=col>dim_10</th><th scope=col>⋯</th><th scope=col>dim_44</th><th scope=col>dim_45</th><th scope=col>dim_46</th><th scope=col>dim_47</th><th scope=col>dim_48</th><th scope=col>dim_49</th><th scope=col>dim_50</th><th scope=col>Description</th><th scope=col>Desc</th><th scope=col>Target</th></tr>\n",
              "\t<tr><th></th><th scope=col>&lt;dbl&gt;</th><th scope=col>&lt;dbl&gt;</th><th scope=col>&lt;dbl&gt;</th><th scope=col>&lt;dbl&gt;</th><th scope=col>&lt;dbl&gt;</th><th scope=col>&lt;dbl&gt;</th><th scope=col>&lt;dbl&gt;</th><th scope=col>&lt;dbl&gt;</th><th scope=col>&lt;dbl&gt;</th><th scope=col>&lt;dbl&gt;</th><th scope=col>⋯</th><th scope=col>&lt;dbl&gt;</th><th scope=col>&lt;dbl&gt;</th><th scope=col>&lt;dbl&gt;</th><th scope=col>&lt;dbl&gt;</th><th scope=col>&lt;dbl&gt;</th><th scope=col>&lt;dbl&gt;</th><th scope=col>&lt;dbl&gt;</th><th scope=col>&lt;chr&gt;</th><th scope=col>&lt;chr&gt;</th><th scope=col>&lt;int&gt;</th></tr>\n",
              "</thead>\n",
              "<tbody>\n",
              "\t<tr><th scope=row>1</th><td>-0.11758273</td><td>0.05472664</td><td>0.1435187</td><td>-0.04461991</td><td>-0.07263091</td><td>-0.1293335</td><td>-0.2996061</td><td> 0.14176000</td><td>-0.1662370</td><td>0.170450</td><td>⋯</td><td>-0.0006929091</td><td>0.002369427</td><td>0.03921009</td><td>0.1057899</td><td>-0.2360387</td><td>-0.1430836</td><td>0.7741466</td><td>@switchfoot http://twitpic.com/2y1zl - awww, that's a bummer.  you shoulda got david carr of third day to do it. ;d</td><td>switchfoot httptwitpiccomyzl  awww thats  bummer   shoulda got david carr  third day    d</td><td>0</td></tr>\n",
              "\t<tr><th scope=row>2</th><td>-0.08274296</td><td>0.11447275</td><td>0.2776635</td><td>-0.04677667</td><td>-0.08026000</td><td>-0.1987698</td><td>-0.2196217</td><td>-0.07718792</td><td>-0.2282217</td><td>0.207352</td><td>⋯</td><td> 0.3245757250</td><td>0.338379179</td><td>0.09025933</td><td>0.0563986</td><td>-0.0191855</td><td> 0.1115213</td><td>0.1747626</td><td>is upset that he can't update his facebook by texting it... and might cry as a result  school today also. blah!    </td><td> upset   cant update  facebook  texting   might cry   result  school today also blah     </td><td>0</td></tr>\n",
              "</tbody>\n",
              "</table>\n"
            ]
          },
          "metadata": {
            "tags": []
          }
        }
      ]
    },
    {
      "cell_type": "code",
      "metadata": {
        "id": "r_Tut9etNaqL"
      },
      "source": [
        "#Read df into one\n",
        "raw_data <- rbind(fill_df1_train_positive, fill_df1_train_negative)\n",
        "# Remove any row that has NA\n",
        "nonNA_data <-  na.omit(raw_data) \n",
        "# change target value 4 to 1\n",
        "nonNA_data['Target'][nonNA_data['Target'] == 4] <- 1\n",
        "# Start trying models\n",
        "model_data <- nonNA_data[, c(c(1:50), 53) ]\n",
        "model_data['Target'] <- as.factor( as.integer( model_data$Target ) )"
      ],
      "execution_count": null,
      "outputs": []
    },
    {
      "cell_type": "code",
      "metadata": {
        "id": "CmXTBYoqHu92"
      },
      "source": [
        "# Training our first model \n",
        "library(caret)\n",
        "sample = createDataPartition(\n",
        "  model_data$Target  ,\n",
        "  p = 0.9, list=FALSE\n",
        ")\n",
        "training <- model_data[sample,]\n",
        "testing <- model_data[-sample, ]"
      ],
      "execution_count": null,
      "outputs": []
    },
    {
      "cell_type": "code",
      "metadata": {
        "colab": {
          "base_uri": "https://localhost:8080/",
          "height": 262
        },
        "id": "hSkC3jPLIPOw",
        "outputId": "2a23eb8d-ca0d-4edf-c247-df4030b811fa"
      },
      "source": [
        "## Start training\n",
        "fitControl <- trainControl(## 10-fold CV\n",
        "  method = \"repeatedcv\",\n",
        "  number = 5,\n",
        "  ## repeated ten times\n",
        "  repeats = 5)\n",
        "\n",
        "start_time <- Sys.time()\n",
        "modSVMrad <- train( Target~., data=training\n",
        "                    , method=\"mlpSGD\" \n",
        "                    , preProcess = c(\"center\", \"scale\", \"pca\")\n",
        "                    ,  trControl = fitControl)\n",
        "end_time <- Sys.time()\n",
        "end_time - start_time"
      ],
      "execution_count": null,
      "outputs": [
        {
          "output_type": "stream",
          "text": [
            "1 package is needed for this model and is not installed. (FCNN4R). Would you like to try to install it now?"
          ],
          "name": "stdout"
        },
        {
          "output_type": "error",
          "ename": "ERROR",
          "evalue": "ignored",
          "traceback": [
            "Error: Required package is missing\nTraceback:\n",
            "1. train(Target ~ ., data = training, method = \"mlpSGD\", preProcess = c(\"center\", \n .     \"scale\", \"pca\"), trControl = fitControl)",
            "2. train.formula(Target ~ ., data = training, method = \"mlpSGD\", \n .     preProcess = c(\"center\", \"scale\", \"pca\"), trControl = fitControl)",
            "3. train(x, y, weights = w, ...)",
            "4. train.default(x, y, weights = w, ...)",
            "5. checkInstall(models$library)",
            "6. stop(\"Required package is missing\", call. = FALSE)"
          ]
        }
      ]
    },
    {
      "cell_type": "code",
      "metadata": {
        "colab": {
          "base_uri": "https://localhost:8080/",
          "height": 84
        },
        "id": "PO5_OyiSlw7P",
        "outputId": "77771ade-ad01-40e8-8ac7-23f6f575bbda"
      },
      "source": [
        "## Predict and calculate test set accuracy\n",
        "predRF <- predict(modSVMrad, newdata= testing )\n",
        "tableRF <- table(predRF, testing$Target )\n",
        "tableRF"
      ],
      "execution_count": null,
      "outputs": [
        {
          "output_type": "display_data",
          "data": {
            "text/plain": [
              "      \n",
              "predRF      0      1\n",
              "     0 106693  49081\n",
              "     1  52062 121746"
            ]
          },
          "metadata": {
            "tags": []
          }
        }
      ]
    },
    {
      "cell_type": "code",
      "metadata": {
        "colab": {
          "base_uri": "https://localhost:8080/",
          "height": 34
        },
        "id": "vOHU4JY2lyWX",
        "outputId": "fc25ed6a-8813-4292-ee26-16f7f7f2fb37"
      },
      "source": [
        "# Accuracy\n",
        "sum(diag(tableRF))/ sum(tableRF) "
      ],
      "execution_count": null,
      "outputs": [
        {
          "output_type": "display_data",
          "data": {
            "text/plain": [
              "[1] 0.6931173"
            ],
            "text/latex": "0.69311734257332",
            "text/markdown": "0.69311734257332",
            "text/html": [
              "0.69311734257332"
            ]
          },
          "metadata": {
            "tags": []
          }
        }
      ]
    },
    {
      "cell_type": "code",
      "metadata": {
        "id": "9-13rW58nHcx"
      },
      "source": [
        ""
      ],
      "execution_count": null,
      "outputs": []
    }
  ]
}